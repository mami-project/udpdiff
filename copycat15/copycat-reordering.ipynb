{
 "cells": [
  {
   "cell_type": "code",
   "execution_count": 1,
   "metadata": {
    "collapsed": false
   },
   "outputs": [],
   "source": [
    "%matplotlib inline\n",
    "import os, ipfix, imp, math\n",
    "import pandas as pd\n",
    "import numpy as np\n",
    "\n",
    "import graph, loader, config, template, locations\n",
    "from misc import stop\n",
    "\n",
    "# init IE specs\n",
    "ipfix.ie.use_iana_default()\n",
    "ipfix.ie.use_5103_default()\n",
    "ipfix.ie.use_specfile(\"qof.iespec\")\n",
    "ipfix.ie.use_specfile(\"copycat.iespec\")\n",
    "ipfix.types.use_integer_ipv4()\n",
    "\n",
    "# init campaign variables\n",
    "output_dir  = \"plots/\"\n",
    "campaign_id = \"sch1-0002-t3-f2-1\" \n",
    "all_cids1 = [\"sch1-0002-t3-f1-1\", \"sch1-0002-t3-f1-2\", \"sch1-0002-t3-f1-3\"]#, \"sch1-0002-t3-f1-4\"]\n",
    "all_cids2 = [\"sch1-0002-t3-f2-1\", \"sch1-0002-t3-f2-2\", \"sch1-0002-t3-f2-3\"]#,\"sch1-0002-t3-f2-4\"]\n",
    "all_cids3 = [\"sch1-0003-t3-f1-4\", \"sch1-0003-t3-f2-4\"]\n",
    "all_cids=all_cids1+all_cids2+all_cids3 "
   ]
  },
  {
   "cell_type": "code",
   "execution_count": 2,
   "metadata": {
    "collapsed": false
   },
   "outputs": [],
   "source": [
    "# load reorder density \n",
    "rd = loader.load_rd(all_cids)\n",
    "udp_rd = rd.reset_index()\n",
    "\n",
    "ind = [\"sourceIPv4Address\", \"destinationIPv4Address\", \n",
    "       \"copycatRunId\", \n",
    "       \"copycatFileSize\", \"copycatPacketSize\"]\n",
    "ies = ind+[\"rd\", \"occurence\"]"
   ]
  },
  {
   "cell_type": "code",
   "execution_count": null,
   "metadata": {
    "collapsed": false,
    "scrolled": true
   },
   "outputs": [],
   "source": [
    "udp_rd = this_rd\n",
    "ind = [\"sourceIPv4Address\", \"destinationIPv4Address\", \n",
    "       \"copycatRunId\", \"copycatFileSize\"]\n",
    "tcp, udpc, udps = loader.load_df(all_cids,\n",
    "                                 [],\n",
    "                                 [\"tcpSequenceJumpCount\", \"reverseTcpSequenceJumpCount\"],\n",
    "                                 ind,\n",
    "                                 load_udps=False, load_udpc=False,\n",
    "                                 offset=3)"
   ]
  },
  {
   "cell_type": "code",
   "execution_count": null,
   "metadata": {
    "collapsed": false,
    "scrolled": true
   },
   "outputs": [],
   "source": [
    "tcp_rd = tcp[\"reverseTcpSequenceJumpCount\"]\n",
    "tcp_rd = tcp_rd.reset_index()\n",
    "tcp_rd[\"rd\"] = tcp_rd[\"reverseTcpSequenceJumpCount\"] / (tcp_rd[\"copycatFileSize\"] / 1440.0)"
   ]
  },
  {
   "cell_type": "code",
   "execution_count": 28,
   "metadata": {
    "collapsed": true
   },
   "outputs": [],
   "source": [
    "from statsmodels.distributions.empirical_distribution import StepFunction\n",
    "\n",
    "def format_pdf(x, y, log=False, num=10000):\n",
    "    \"\"\"\n",
    "    Format data for cdf plots\n",
    "    \"\"\"\n",
    "    step = StepFunction(x, y)\n",
    "    xmin=min(x)\n",
    "    xmax=max(x)\n",
    "    if log is False:\n",
    "        x = np.linspace(xmin, xmax, num=num)\n",
    "    else:\n",
    "        x = np.logspace(1, 2, num=num)\n",
    "    y = step(x)\n",
    "    return x, y"
   ]
  },
  {
   "cell_type": "code",
   "execution_count": 31,
   "metadata": {
    "collapsed": false,
    "scrolled": true
   },
   "outputs": [
    {
     "data": {
      "image/png": "[encoded data removed]",
      "text/plain": [
       "<matplotlib.figure.Figure at 0x7f38c5677780>"
      ]
     },
     "metadata": {},
     "output_type": "display_data"
    },
    {
     "ename": "SystemExit",
     "evalue": "0",
     "output_type": "error",
     "traceback": [
      "An exception has occurred, use %tb to see the full traceback.\n",
      "\u001b[1;31mSystemExit\u001b[0m\u001b[1;31m:\u001b[0m 0\n"
     ]
    },
    {
     "name": "stderr",
     "output_type": "stream",
     "text": [
      "To exit: use 'exit', 'quit', or Ctrl-D.\n"
     ]
    }
   ],
   "source": [
    "import pylab as p\n",
    "imp.reload(graph)\n",
    "\n",
    "def clipper(x):\n",
    "    if x > xlim:\n",
    "        x = xlim\n",
    "    elif x < -xlim:\n",
    "        x = -xlim\n",
    "    return x\n",
    "\n",
    "for filesize in set(this_rd.copycatFileSize):\n",
    "    for packetsize in set(this_rd.copycatPacketSize):\n",
    "        ies = [\"rd\", \"occurence\"]\n",
    "        this_pkts = this_rd[(this_rd.copycatFileSize == filesize) & (this_rd.copycatPacketSize == packetsize)][ies]\n",
    "        if len(this_pkts) == 0:\n",
    "            continue\n",
    "        x = []\n",
    "        y = []\n",
    "        total_pkts = float(this_pkts.occurence.sum())\n",
    "        for k,d in this_pkts.rd.value_counts().items():\n",
    "            count   = this_pkts[this_pkts.rd == k].occurence.sum()\n",
    "            density = (count / total_pkts)*100\n",
    "            x.append(k)\n",
    "            y.append(density)\n",
    "            \n",
    "        # clip outliers\n",
    "        xmin = min(x)\n",
    "        xmax = max(x)\n",
    "        xlim = min(np.abs(xmin), np.abs(xmax))\n",
    "        x = list(map(clipper, x))\n",
    "\n",
    "        graph.cdf((x,y), \"UDP pkt reordering block \"+str(packetsize)+\" data \"+str(filesize), \n",
    "                  \"Earliness/Lateness\", \"Frequency\", \n",
    "                  None, num=1000, pdf=True, logy=True, autolimx=True)\n",
    "        \n",
    "\n",
    "\n",
    "        stop()"
   ]
  },
  {
   "cell_type": "code",
   "execution_count": 67,
   "metadata": {
    "collapsed": false
   },
   "outputs": [],
   "source": [
    "# format data\n",
    "funcs = []\n",
    "funcs2 = []\n",
    "xlabels = []\n",
    "for filesize in set(this_rd.copycatFileSize):\n",
    "    for packetsize in set(this_rd.copycatPacketSize):\n",
    "        ies = [\"rd\", \"occurence\"]\n",
    "        this_pkts = this_rd[(this_rd.copycatFileSize == filesize) & (this_rd.copycatPacketSize == packetsize)][ies]\n",
    "        if len(this_pkts) == 0:\n",
    "            continue\n",
    "        \n",
    "        data = {}\n",
    "        total_pkts = float(this_pkts.occurence.sum())\n",
    "        for k,d in this_pkts.rd.value_counts().items():\n",
    "            count   = this_pkts[this_pkts.rd == k].occurence.sum()\n",
    "            density = (count / total_pkts)*100\n",
    "            val = np.abs(k)\n",
    "            if val in data:\n",
    "                data[val] += density\n",
    "            else:\n",
    "                data[val] = density\n",
    "\n",
    "        xlabels.append((filesize, packetsize))\n",
    "        f = StepFunction(list(data.keys()),list(data.values()))\n",
    "        #x = np.logspace(1, 2, num=num)\n",
    "        funcs.append(f)\n",
    "        funcs2.append(StepFunction(list(data.values()), list(data.keys())))"
   ]
  },
  {
   "cell_type": "code",
   "execution_count": 37,
   "metadata": {
    "collapsed": false
   },
   "outputs": [],
   "source": [
    "def gridplot(a, label, cmap=\"RdBu\", vrange=None, file=None, lim=None, title=None, ticks=None):\n",
    "    p.figure() # figsize=(7,2.5)\n",
    "    if vrange is None:\n",
    "        p.pcolor(a, cmap=cmap)\n",
    "    else:\n",
    "        p.pcolor(a, cmap=cmap, vmin=vrange[0], vmax=vrange[1])\n",
    "    if lim:\n",
    "        p.xlim(lim)\n",
    "        p.ylim(lim)\n",
    "    if ticks: \n",
    "        p.xticks(ticks,(\"NA\", \"EU\", \"AS\", \"O\")) \n",
    "        p.yticks(ticks,(\"NA\", \"EU\", \"AS\", \"O\")) \n",
    "    p.ylabel(\"Frequency\")\n",
    "    p.xlabel(\"Block/data\")\n",
    "    p.colorbar(label=label)\n",
    "    if title:\n",
    "        p.title(title)\n",
    "    p.tight_layout()\n",
    "    if file:\n",
    "        p.savefig(file)\n"
   ]
  },
  {
   "cell_type": "code",
   "execution_count": 66,
   "metadata": {
    "collapsed": false,
    "scrolled": true
   },
   "outputs": [
    {
     "data": {
      "text/plain": [
       "([<matplotlib.axis.YTick at 0x7ff39f246668>,\n",
       "  <matplotlib.axis.YTick at 0x7ff39f246da0>,\n",
       "  <matplotlib.axis.YTick at 0x7ff39f1a8198>,\n",
       "  <matplotlib.axis.YTick at 0x7ff39c6a8400>],\n",
       " <a list of 4 Text yticklabel objects>)"
      ]
     },
     "execution_count": 66,
     "metadata": {},
     "output_type": "execute_result"
    },
    {
     "data": {
      "image/png": "[encoded data removed]",
      "text/plain": [
       "<matplotlib.figure.Figure at 0x7ff39f2c30f0>"
      ]
     },
     "metadata": {},
     "output_type": "display_data"
    }
   ],
   "source": [
    "import pylab as p\n",
    "def superfunc(i, j):\n",
    "    return funcs2[i](j)\n",
    "    \n",
    "xdim = 8\n",
    "ydim = 10000\n",
    "x = np.arange(xdim)\n",
    "y = np.logspace(0,2,num=ydim+1)[1:]-1\n",
    "data = np.zeros((ydim, xdim))\n",
    "\n",
    "for i, this_x in enumerate(x):\n",
    "    for j, this_y in enumerate(y):\n",
    "        data[j, i] = superfunc(this_x, this_y)\n",
    "\n",
    "#test = funcs2[0]\n",
    "\n",
    "gridplot(data, \"Reorder\", vrange=[0,20])\n",
    "p.xlim(0,xdim)\n",
    "p.ylim(0, 1504)\n",
    "p.yticks([21, 206, 880, 1504],[\"0.01%\", \"0.1%\", \"0.5%\", \"1%\"])\n",
    "#p.xticks()\n",
    "#p.pcolor(data)\n",
    "\n",
    "#superfunc(0, y)"
   ]
  },
  {
   "cell_type": "code",
   "execution_count": 84,
   "metadata": {
    "collapsed": true
   },
   "outputs": [],
   "source": [
    "# compute reordering per flow\n",
    "ind = [\"sourceIPv4Address\", \"destinationIPv4Address\",  \"destinationTransportPort\",\n",
    "               \"copycatRunId\", \"copycatFileSize\", \"copycatPacketSize\"]\n",
    "tmp     = udp_rd\n",
    "tmp.rd  = udp_rd.rd.abs()\n",
    "udp_rd2 = tmp.groupby(ind).sum()"
   ]
  },
  {
   "cell_type": "code",
   "execution_count": 176,
   "metadata": {
    "collapsed": false
   },
   "outputs": [],
   "source": [
    "# create step function of reorder per flow\n",
    "udp_funcs  = []\n",
    "tcp_funcs  = []\n",
    "udp_labels = []\n",
    "tcp_labels = []\n",
    "ies = [\"rd\", \"occurence\", \"sourceIPv4Address\", \"destinationIPv4Address\", \n",
    "       \"copycatRunId\", \"copycatFileSize\", \"copycatPacketSize\"]\n",
    "\n",
    "fsizes = [13312, 39936, 399360, 399300, 4088832]\n",
    "flabels = {13312: \"13Kb\", 39936: \"39Kb\", 399360: \"390Kb\", 399300: \"390Kb\", 4088832: \"3.9Mb\"}\n",
    "bsizes = [512, 1460]\n",
    "    \n",
    "for filesize in fsizes:\n",
    "    # tcp step\n",
    "    this_tcp = None\n",
    "    if filesize == 399360:\n",
    "        this_tcp = tcp_rd[(tcp_rd.copycatFileSize == 399361) | (tcp_rd.copycatFileSize == 399301)][\"reverseTcpSequenceJumpCount\"].value_counts()\n",
    "    elif filesize != 399300:\n",
    "        this_tcp = tcp_rd[(tcp_rd.copycatFileSize == filesize+1)][\"reverseTcpSequenceJumpCount\"].value_counts()\n",
    "    if this_tcp is not None:\n",
    "        x = list(this_tcp.index)\n",
    "        y = list(this_tcp.values) / sum(list(this_tcp.values))\n",
    "        tcp_funcs.append(StepFunction(y, x))\n",
    "        tcp_labels.append(flabels[filesize])\n",
    "        \n",
    "    for packetsize in bsizes:\n",
    "        # udp step\n",
    "        this_pkts = udp_rd2[(udp_rd2.copycatFileSize == filesize) & (udp_rd2.copycatPacketSize == packetsize)][\"rd\"]\n",
    "        if len(this_pkts) == 0:\n",
    "            continue\n",
    "        this_pkts = this_pkts.value_counts()\n",
    "        x = [i/2.0 for i in list(this_pkts.index)] \n",
    "        y = list(this_pkts.values) / sum(list(this_pkts.values))\n",
    "\n",
    "        udp_labels.append((flabels[filesize], packetsize))\n",
    "        udp_funcs.append(StepFunction(y, x))"
   ]
  },
  {
   "cell_type": "code",
   "execution_count": 178,
   "metadata": {
    "collapsed": false
   },
   "outputs": [
    {
     "data": {
      "image/png": "[encoded data removed]",
      "text/plain": [
       "<matplotlib.figure.Figure at 0x7ff383c93dd8>"
      ]
     },
     "metadata": {},
     "output_type": "display_data"
    },
    {
     "data": {
      "image/png": "[encoded data removed]",
      "text/plain": [
       "<matplotlib.figure.Figure at 0x7ff38400ef98>"
      ]
     },
     "metadata": {},
     "output_type": "display_data"
    }
   ],
   "source": [
    "def udpfunc(i, j):\n",
    "    return udp_funcs[i](j)\n",
    "\n",
    "def tcpfunc(i, j):\n",
    "    return tcp_funcs[i](j)\n",
    "    \n",
    "# plot UDP reorder per flow\n",
    "xdim = 8\n",
    "ydim = 10000\n",
    "x = np.arange(xdim)\n",
    "y = np.logspace(0,2,num=ydim+1)[1:]-1\n",
    "data = np.zeros((ydim, xdim))\n",
    "\n",
    "for i, this_x in enumerate(x):\n",
    "    for j, this_y in enumerate(y):\n",
    "        data[j, i] = udpfunc(this_x, this_y)\n",
    "\n",
    "#test = funcs2[0]\n",
    "\n",
    "gridplot(data, \"Total reorder per flow\", vrange=[0,20])\n",
    "p.xlim(0,xdim)\n",
    "p.ylim(0, 1504)\n",
    "p.yticks([21, 206, 880, 1504],[\"0.01%\", \"0.1%\", \"0.5%\", \"1%\"])\n",
    "centr = \" \"*10\n",
    "p.xticks([0,1,2,3,4,5,6,7,8],[centr+str(i)+\"\\n\"+centr+str(j) for i,j in udp_labels])\n",
    "p.grid()\n",
    "p.savefig(\"plots/udp-rd.pdf\")\n",
    "\n",
    "# plot TCP reorder per flow\n",
    "xdim = 4\n",
    "ydim = 10000\n",
    "x = np.arange(xdim)\n",
    "y = np.logspace(0,2,num=ydim+1)[1:]-1\n",
    "data = np.zeros((ydim, xdim))\n",
    "\n",
    "for i, this_x in enumerate(x):\n",
    "    for j, this_y in enumerate(y):\n",
    "        data[j, i] = tcpfunc(this_x, this_y)\n",
    "\n",
    "#test = funcs2[0]\n",
    "\n",
    "gridplot(data, \"Total reorder per flow\", vrange=[0,20])\n",
    "p.xlim(0,xdim)\n",
    "p.ylim(0, 1504)\n",
    "p.yticks([21, 206, 880, 1504],[\"0.01%\", \"0.1%\", \"0.5%\", \"1%\"])\n",
    "centr = \" \"*20\n",
    "p.xticks([0,1,2,3,4],[centr+str(i) for i in tcp_labels])\n",
    "p.grid()\n",
    "p.savefig(\"plots/tcp-rd.pdf\")"
   ]
  },
  {
   "cell_type": "code",
   "execution_count": null,
   "metadata": {
    "collapsed": true
   },
   "outputs": [],
   "source": []
  }
 ],
 "metadata": {
  "kernelspec": {
   "display_name": "Python 3",
   "language": "python",
   "name": "python3"
  },
  "language_info": {
   "codemirror_mode": {
    "name": "ipython",
    "version": 3
   },
   "file_extension": ".py",
   "mimetype": "text/x-python",
   "name": "python",
   "nbconvert_exporter": "python",
   "pygments_lexer": "ipython3",
   "version": "3.4.3"
  }
 },
 "nbformat": 4,
 "nbformat_minor": 0
}
