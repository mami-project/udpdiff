{
 "cells": [
  {
   "cell_type": "markdown",
   "metadata": {},
   "source": [
    "This notebook searches the RIPE atlas measurement metadata archive (available from [ftp.ripe.net](ftp://ftp.ripe.net/atlas/measurements)) for UDP and TCP traceroute measurements."
   ]
  },
  {
   "cell_type": "code",
   "execution_count": 2,
   "metadata": {
    "collapsed": false
   },
   "outputs": [],
   "source": [
    "# Some jupyter magic to set up the environment correctly\n",
    "%load_ext autoreload\n",
    "%autoreload 2\n",
    "%matplotlib inline\n",
    "\n",
    "# thanks for letting me know about your plans but i don't really care\n",
    "import warnings\n",
    "warnings.simplefilter(action = \"ignore\", category = FutureWarning)\n",
    "\n",
    "# things we need, things to make us go\n",
    "import pandas as pd\n",
    "import matplotlib.pyplot as plt\n",
    "import numpy as np\n",
    "import collections\n",
    "import warnings\n",
    "import hashlib\n",
    "import requests\n",
    "import os.path\n",
    "import time\n",
    "import calendar\n",
    "import itertools\n",
    "import json"
   ]
  },
  {
   "cell_type": "code",
   "execution_count": 26,
   "metadata": {
    "collapsed": false
   },
   "outputs": [
    {
     "name": "stdout",
     "output_type": "stream",
     "text": [
      "CPU times: user 4min 43s, sys: 4.64 s, total: 4min 48s\n",
      "Wall time: 4min 48s\n"
     ]
    },
    {
     "ename": "NameError",
     "evalue": "name 'msm_id' is not defined",
     "output_type": "error",
     "traceback": [
      "\u001b[0;31m---------------------------------------------------------------------------\u001b[0m",
      "\u001b[0;31mNameError\u001b[0m                                 Traceback (most recent call last)",
      "\u001b[0;32m<ipython-input-26-29d4edd6db3b>\u001b[0m in \u001b[0;36m<module>\u001b[0;34m()\u001b[0m\n\u001b[1;32m     46\u001b[0m \u001b[0;31m# index by msm\u001b[0m\u001b[0;34m\u001b[0m\u001b[0;34m\u001b[0m\u001b[0m\n\u001b[1;32m     47\u001b[0m \u001b[0mtmdf\u001b[0m\u001b[0;34m.\u001b[0m\u001b[0mindex\u001b[0m \u001b[0;34m=\u001b[0m \u001b[0mpd\u001b[0m\u001b[0;34m.\u001b[0m\u001b[0mIndex\u001b[0m\u001b[0;34m(\u001b[0m\u001b[0mtmdf\u001b[0m\u001b[0;34m[\u001b[0m\u001b[0;34m'msm_id'\u001b[0m\u001b[0;34m]\u001b[0m\u001b[0;34m)\u001b[0m\u001b[0;34m\u001b[0m\u001b[0m\n\u001b[0;32m---> 48\u001b[0;31m \u001b[0;32mdel\u001b[0m\u001b[0;34m(\u001b[0m\u001b[0mtmdf\u001b[0m\u001b[0;34m[\u001b[0m\u001b[0mmsm_id\u001b[0m\u001b[0;34m]\u001b[0m\u001b[0;34m)\u001b[0m\u001b[0;34m\u001b[0m\u001b[0m\n\u001b[0m",
      "\u001b[0;31mNameError\u001b[0m: name 'msm_id' is not defined"
     ]
    }
   ],
   "source": [
    "TraceMeta = collections.namedtuple(\"TraceMeta\", (\"msm_id\", \"af\", \"proto\", \"target\", \"start_epoch\", \"stop_epoch\", \"interval\", \"probes\"))\n",
    "\n",
    "def tm_generator(first_start=0, last_start=calendar.timegm(time.gmtime()), skip_lines = 0):\n",
    "    current_time = calendar.timegm(time.gmtime())\n",
    "    \n",
    "    with open(\"data_cache/all-measurements-fjson.txt\") as fjf:\n",
    "        for num, line in enumerate(fjf):\n",
    "            if num < skip_lines:\n",
    "                continue\n",
    "            \n",
    "            mm = json.loads(line)\n",
    "                \n",
    "            if (((mm['type']['id'] == 2) or (mm['type']['id'] == 4)) and\n",
    "                ((mm['status']['id'] == 2) or (mm['status']['id'] == 4)) and\n",
    "                (('protocol' in mm) or ('proto_tcp' in mm)) and\n",
    "                (mm['start_time'] >= first_start) and\n",
    "                (mm['start_time'] < last_start) ):\n",
    "            \n",
    "                    if mm['status']['id'] == 4:\n",
    "                        stop_time = mm['stop_time']\n",
    "                    else:\n",
    "                        stop_time = current_time\n",
    "                    \n",
    "                    if 'proto_tcp' in mm and mm['proto_tcp']:\n",
    "                        proto = 'TCP'\n",
    "                    else:\n",
    "                        proto = mm['protocol']\n",
    "                        \n",
    "                    yield TraceMeta(mm['msm_id'], mm['af'], proto, mm['dst_addr'], \n",
    "                                    mm['start_time'], stop_time, mm['interval'],\n",
    "                                    mm['participant_count'])\n",
    "\n",
    "# get ALL the traceroutes! (takes about five minutes on Forclaz)\n",
    "tmgen = tm_generator()\n",
    "%time tmdf = pd.DataFrame([m for m in tmgen], columns=TraceMeta._fields)\n",
    "tmgen.close() # generator wraps a file, close it.\n",
    "\n",
    "# estimate sample count\n",
    "tmdf['samples'] = (tmdf['probes'] * (tmdf['stop_epoch'] - tmdf['start_epoch'])) / tmdf['interval']\n",
    "\n",
    "# cast timestamps\n",
    "tmdf['start'] = pd.to_datetime(tmdf['start_epoch'] * 1e9)\n",
    "tmdf['stop'] = pd.to_datetime(tmdf['stop_epoch'] * 1e9)\n",
    "tmdf['duration'] = tmdf['stop'] - tmdf['start']\n",
    "\n",
    "# count msms\n",
    "tmdf['n'] = 1\n",
    "\n",
    "# index by msm\n",
    "tmdf.index = pd.Index(tmdf['msm_id'])\n",
    "del(tmdf['msm_id'])"
   ]
  },
  {
   "cell_type": "code",
   "execution_count": 95,
   "metadata": {
    "collapsed": false
   },
   "outputs": [],
   "source": [
    "# exclude all measurements ending before 1 Jan 2015, and look only at UDP and TCP\n",
    "tmdf_udp = tmdf[tmdf['proto'] == 'UDP']\n",
    "tmdf_udp = tmdf_udp[tmdf_udp[\"stop\"] >= \"2015-01-01\"]\n",
    "tmdf_tcp = tmdf[tmdf['proto'] == 'TCP']\n",
    "tmdf_tcp = tmdf_tcp[tmdf_tcp[\"stop\"] >= \"2015-01-01\"]"
   ]
  },
  {
   "cell_type": "code",
   "execution_count": 96,
   "metadata": {
    "collapsed": false
   },
   "outputs": [],
   "source": [
    "udp_targets = pd.DataFrame(data = {'udp_samples': tmdf_udp.groupby('target')['samples'].sum(),\n",
    "                                   'udp_maxprobes': tmdf_udp.groupby('target')['probes'].max(),\n",
    "                                   'udp_msms': tmdf_udp.groupby('target')['n'].sum()})\n",
    "tcp_targets = pd.DataFrame(data = {'tcp_samples': tmdf_tcp.groupby('target')['samples'].sum(),\n",
    "                                   'tcp_maxprobes': tmdf_tcp.groupby('target')['probes'].max(),\n",
    "                                   'tcp_msms': tmdf_tcp.groupby('target')['n'].sum()})\n",
    "common_targets = pd.merge(udp_targets, tcp_targets, left_index=True, right_index=True, how='inner')\n"
   ]
  },
  {
   "cell_type": "code",
   "execution_count": 102,
   "metadata": {
    "collapsed": false
   },
   "outputs": [
    {
     "data": {
      "text/plain": [
       "array([1842149, 1873371, 1873380, ..., 3020847, 3021090, 3102318])"
      ]
     },
     "execution_count": 102,
     "metadata": {},
     "output_type": "execute_result"
    }
   ],
   "source": [
    "tmdf_udp[tmdf_udp['probes'] >= 100].index.values"
   ]
  },
  {
   "cell_type": "code",
   "execution_count": null,
   "metadata": {
    "collapsed": true
   },
   "outputs": [],
   "source": []
  }
 ],
 "metadata": {
  "kernelspec": {
   "display_name": "Python 3",
   "language": "python",
   "name": "python3"
  },
  "language_info": {
   "codemirror_mode": {
    "name": "ipython",
    "version": 3
   },
   "file_extension": ".py",
   "mimetype": "text/x-python",
   "name": "python",
   "nbconvert_exporter": "python",
   "pygments_lexer": "ipython3",
   "version": "3.5.1"
  }
 },
 "nbformat": 4,
 "nbformat_minor": 0
}
