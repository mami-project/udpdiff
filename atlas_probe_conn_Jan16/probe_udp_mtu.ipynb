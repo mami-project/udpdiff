{
 "cells": [
  {
   "cell_type": "markdown",
   "metadata": {},
   "source": [
    "## UDP MTU by Probe\n",
    "\n",
    "This notebook uses RIPE Atlas measurements done by Emile Aben to check differences between ICMP and UDP MTU-dependent connectivity. The basic methodology is as follows:\n",
    "\n",
    "- Examine MSMS (run by Emile) from N probes to two anchors, over v4 and v6, with different packet sizes.\n",
    "- Group max MTU for ICMP and UDP per probe, and classify probes according to (1) limited MTU and (2) difference in MTU between UDP and ICMP.\n",
    "\n",
    "This notebook shares preamble code with [Probe UDP Connectivity](probe_udp_traceconn.ipynb) notebook. This should probably be refactored into a module if we believe we'll keep using it.\n"
   ]
  },
  {
   "cell_type": "markdown",
   "metadata": {},
   "source": [
    "### Preamble\n",
    "\n",
    "Set up the environment and define functions we'll use later."
   ]
  },
  {
   "cell_type": "code",
   "execution_count": 1,
   "metadata": {
    "collapsed": false
   },
   "outputs": [],
   "source": [
    "# Some jupyter magic to set up the environment correctly\n",
    "%load_ext autoreload\n",
    "%autoreload 2\n",
    "%matplotlib inline\n",
    "\n",
    "# thanks for letting me know about your plans but i don't really care\n",
    "import warnings\n",
    "warnings.simplefilter(action = \"ignore\", category = FutureWarning)\n",
    "\n",
    "# things we need, things to make us go\n",
    "import pandas as pd\n",
    "import matplotlib.pyplot as plt\n",
    "import numpy as np\n",
    "import collections\n",
    "import warnings\n",
    "import hashlib\n",
    "import requests\n",
    "import os.path\n",
    "import time\n",
    "import calendar\n",
    "import itertools\n",
    "import json\n",
    "\n",
    "# HDF5 store for stashing parsed things\n",
    "store = pd.HDFStore('data_cache/udp_mtu.h5')\n",
    "\n",
    "##############################################################################\n",
    "# Probe metadata named tuple and extraction code\n",
    "##############################################################################\n",
    "AtlasProbe = collections.namedtuple(\"AtlasProbe\",\n",
    "           (\"pid\", \"version\", \"nat\", \"ip4\", \"ip6\", \"asn4\", \"asn6\", \"cc\", \"lat\", \"lon\"))\n",
    "\n",
    "def extract_atlas_probe(pobj):\n",
    "    if \"address_v4\" in pobj:\n",
    "        ip4 = pobj[\"address_v4\"]\n",
    "    else:\n",
    "        ip4 = None\n",
    "\n",
    "    if \"address_v6\" in pobj:\n",
    "        ip6 = pobj[\"address_v6\"]\n",
    "    else:\n",
    "        ip6 = None\n",
    "\n",
    "    if \"asn_v4\" in pobj:\n",
    "        asn4 = pobj[\"asn_v4\"]\n",
    "    else:\n",
    "        asn4 = None\n",
    "\n",
    "    if \"asn_v6\" in pobj:\n",
    "        asn6 = pobj[\"asn_v6\"]\n",
    "    else:\n",
    "        asn6 = None\n",
    "\n",
    "    if \"tags\" in pobj:\n",
    "        if \"system-v1\" in pobj[\"tags\"]:\n",
    "            version = 1\n",
    "        elif \"system-v2\" in pobj[\"tags\"]:\n",
    "            version = 2\n",
    "        elif \"system-v3\" in pobj[\"tags\"]:\n",
    "            version = 3\n",
    "        elif \"system-anchor\" in pobj[\"tags\"]:\n",
    "            version = 4\n",
    "        else:\n",
    "            version = 0\n",
    "\n",
    "        nat = \"nat\" in pobj[\"tags\"]\n",
    "\n",
    "\n",
    "    return AtlasProbe(pobj[\"id\"], version, nat, ip4, ip6, asn4, asn6,\n",
    "                      pobj[\"country_code\"], pobj[\"latitude\"], pobj[\"longitude\"])       \n",
    "\n",
    "def probe_dataframe_from_file(filename=\"data_cache/all-probes.json\"):\n",
    "    data = []\n",
    "    \n",
    "    # make a giant array\n",
    "    with open(filename) as stream:\n",
    "        all_probes = json.loads(stream.read())\n",
    "        for pobj in all_probes[\"objects\"]:\n",
    "            data.append(extract_atlas_probe(pobj))\n",
    "\n",
    "    # create a dataframe from it\n",
    "    df = pd.DataFrame(data, columns=AtlasProbe._fields)\n",
    "    \n",
    "    # indexed by probe ID\n",
    "    df.index = df['pid']\n",
    "    del(df['pid'])\n",
    "    \n",
    "    # stick an aggregation column on there, we'll use it later\n",
    "    df['n'] = 1\n",
    "    \n",
    "    # and return it\n",
    "    return df\n",
    "\n",
    "##############################################################################\n",
    "# MSM retrieval code\n",
    "##############################################################################\n",
    "\n",
    "def get_msm(msm_id, gen, cachedir=None, start=None, stop=None):\n",
    "    \"\"\"\n",
    "    Given an MSM, fetch it from the cache or from the RIPE Atlas API.\n",
    "    Yield each separate result according to the generation function.\n",
    "    \"\"\"\n",
    "    url = \"https://atlas.ripe.net/api/v1/measurement/%u/result/\" % (msm_id,)\n",
    "\n",
    "    params = {\"format\": \"json\"}\n",
    "    if start is not None and stop is not None:\n",
    "        params[\"start\"] = str(start)\n",
    "        params[\"stop\"] = str(stop)\n",
    "    \n",
    "    if cachedir and os.path.isdir(cachedir):\n",
    "        filepath = os.path.join(cachedir, \"measurement\", \"%u.json\" % (msm_id,))\n",
    "\n",
    "        # download if not present\n",
    "        if not os.path.isfile(filepath):\n",
    "            with open(filepath, mode=\"wb\") as file:\n",
    "                print(\"Cache miss, retrieving \"+url)\n",
    "                res = requests.get(url, params=params)\n",
    "\n",
    "                if not res.ok:\n",
    "                    raise \"Atlas measurement API request failed: \"+repr(res.json())\n",
    "                \n",
    "                file.write(res.content)\n",
    "\n",
    "        # then read from cache\n",
    "        with open(filepath) as stream:\n",
    "            yield from gen(json.loads(stream.read()))\n",
    "\n",
    "    else:\n",
    "        # just read from the net\n",
    "        res = requests.get(url, params=params)\n",
    "        yield from gen(json.loads(res.content.decode(\"utf-8\")))\n",
    "\n",
    "##############################################################################\n",
    "# Connectivity sample named tuple,\n",
    "# connectivity sample generator for use with get_msm(),\n",
    "# and dataframe creation function wrapping all of this together\n",
    "##############################################################################\n",
    "\n",
    "TCSample = collections.namedtuple(\"TCSample\",\n",
    "                     (\"msm_id\",\"time\",\"af\",\"proto\",\"size\",\"pid\",\"sip\",\"dip\",\"reached\",\"hop\",\"rtt\"))\n",
    "\n",
    "def gen_tcs(msm_ary):\n",
    "    for a_res in msm_ary:        \n",
    "        if a_res['type'] == 'traceroute':\n",
    "            if ('result' in a_res):\n",
    "                maxhop = 0\n",
    "                maxhop_ok = False\n",
    "                for hop in a_res['result']:\n",
    "                    if 'result' in hop:\n",
    "                        for pkt in hop['result']:\n",
    "                            if 'from' in pkt:\n",
    "                                maxhop = hop['hop']\n",
    "                                if pkt['from'] == a_res['dst_addr']:\n",
    "                                    maxhop_ok = True\n",
    "                                    if 'rtt' in pkt:\n",
    "                                        rtt = pkt['rtt']\n",
    "                                    else:\n",
    "                                        rtt = -1\n",
    "                                    yield TCSample(a_res['msm_id'],\n",
    "                                           int(a_res['timestamp']), int(a_res['af']), \n",
    "                                           a_res['proto'], int(a_res['size']),\n",
    "                                           a_res['prb_id'], a_res['src_addr'], a_res['dst_addr'],\n",
    "                                           True, maxhop, rtt)\n",
    "                                    break\n",
    "                if not maxhop_ok:\n",
    "                    try:\n",
    "                        yield TCSample(a_res['msm_id'],\n",
    "                                       int(a_res['timestamp']), int(a_res['af']), \n",
    "                                       a_res['proto'], int(a_res['size']),\n",
    "                                       a_res['prb_id'], a_res['src_addr'], a_res['dst_addr'],\n",
    "                                       False, maxhop, -1)\n",
    "                    except KeyError:\n",
    "                        # ignore completely broken results\n",
    "                        pass\n",
    "\n",
    "def tcsample_dataframe(msm_ids, cachedir=None, start=None, stop=None, chunksize=1000000):\n",
    "    \"\"\"\n",
    "    Given an iterable of MSMs, create a dataframe of trace connectivity samples.\n",
    "    \"\"\"\n",
    "    \n",
    "    # initialize accumulators\n",
    "    adf = pd.DataFrame([], columns=TCSample._fields)\n",
    "    data = []\n",
    "    \n",
    "    # get individual rows from get_msm\n",
    "    for msm_id in msm_ids:\n",
    "        for tcs in get_msm(msm_id, gen=gen_tcs, \n",
    "                           start=start, stop=stop, \n",
    "                           cachedir=cachedir):\n",
    "            data.append(tcs)\n",
    "            \n",
    "            # Append dataframe to dataframe accumulator if chunking.\n",
    "            if len(data) >= chunksize:\n",
    "                adf = adf.append(pd.DataFrame(data, columns=TCSample._fields), ignore_index=True)\n",
    "                data = []\n",
    "                \n",
    "    # Append final dataframe if non-empty.\n",
    "    if len(data) > 0:\n",
    "        adf = adf.append(pd.DataFrame(data, columns=TCSample._fields), ignore_index=True)\n",
    "\n",
    "    # Counter column for aggregation\n",
    "    adf['n'] = 1\n",
    "    \n",
    "    return adf\n",
    "\n",
    "##############################################################################\n",
    "# Plotting utility function\n",
    "##############################################################################\n",
    "\n",
    "def plot_ecdf(a, **kwargs):\n",
    "    sa = np.sort(a)\n",
    "    yv = np.arange(len(sa))/float(len(sa))\n",
    "    plt.plot(sa, yv, **kwargs)"
   ]
  },
  {
   "cell_type": "markdown",
   "metadata": {},
   "source": [
    "### Step 1b, 2b: store/restore preparsed raw dataframes in HDF\n",
    "\n",
    "Do this instead of steps 1 and 2 if not reworking parsing and raw dataframs selection. It's silly fast."
   ]
  },
  {
   "cell_type": "code",
   "execution_count": 2,
   "metadata": {
    "collapsed": true
   },
   "outputs": [],
   "source": [
    "# [TODO]\n",
    "mtudf = store[\"mtudf\"]"
   ]
  },
  {
   "cell_type": "markdown",
   "metadata": {},
   "source": [
    "### Step 1: retrieve Emile's MSMs\n",
    "\n",
    "Parse text files listing MSMs committed in the data cache to retrieve MSM numbers, then cache these."
   ]
  },
  {
   "cell_type": "code",
   "execution_count": null,
   "metadata": {
    "collapsed": false
   },
   "outputs": [],
   "source": [
    "def msms_from_emile_file(filename):\n",
    "    with open(filename) as file:\n",
    "        for line in file:\n",
    "            d = {k: v for (k,v) in map(lambda x: x.split(\":\"), line.split())}\n",
    "            yield int(d[\"msm_id\"])\n",
    "            \n",
    "msm_ids = [x for x in msms_from_emile_file(\"data_cache/emile_mtu_msms_ip4.txt\")] + \\\n",
    "          [x for x in msms_from_emile_file(\"data_cache/emile_mtu_msms_ip6.txt\")]\n",
    "    \n",
    "%time mtudf = tcsample_dataframe(msm_ids, cachedir=\"data_cache\", chunksize=100000)\n",
    "store['mtudf'] = mtudf"
   ]
  },
  {
   "cell_type": "markdown",
   "metadata": {},
   "source": [
    "### Step 2: get connection probability / probe count by AF, protocol"
   ]
  },
  {
   "cell_type": "code",
   "execution_count": 3,
   "metadata": {
    "collapsed": false
   },
   "outputs": [],
   "source": [
    "# By connection\n",
    "conn_per_mtu = {}\n",
    "for af in (4,6):\n",
    "    conn_per_mtu[af] = {}\n",
    "    for proto in (\"UDP\", \"ICMP\"):\n",
    "        apdf = mtudf[(mtudf['af'] == af) & (mtudf['proto'] == proto)]\n",
    "        conn_per_mtu[af][proto] = apdf.groupby(\"size\")['reached'].sum() / apdf.groupby(\"size\")['n'].sum()  "
   ]
  },
  {
   "cell_type": "code",
   "execution_count": 4,
   "metadata": {
    "collapsed": false
   },
   "outputs": [],
   "source": [
    "# By probe (counted if at least one connection)\n",
    "probes_per_mtu = {}\n",
    "for af in (4,6):\n",
    "    probes_per_mtu[af] = {}\n",
    "    for proto in (\"UDP\", \"ICMP\"):\n",
    "        apdf = mtudf[(mtudf['af'] == af) & (mtudf['proto'] == proto)]\n",
    "        probes_per_mtu[af][proto] = apdf.groupby((\"size\", \"pid\"))['reached'].sum().astype(\"bool\").groupby(axis=0, level=0).sum()"
   ]
  },
  {
   "cell_type": "code",
   "execution_count": 5,
   "metadata": {
    "collapsed": false
   },
   "outputs": [
    {
     "data": {
      "text/plain": [
       "9396"
      ]
     },
     "execution_count": 5,
     "metadata": {},
     "output_type": "execute_result"
    }
   ],
   "source": [
    "# How many probes in the whole dataset?\n",
    "len(mtudf.groupby(\"pid\")[\"n\"].sum())"
   ]
  },
  {
   "cell_type": "code",
   "execution_count": 6,
   "metadata": {
    "collapsed": false,
    "scrolled": true
   },
   "outputs": [
    {
     "data": {
      "image/png": "[encoded data removed]",
      "text/plain": [
       "<matplotlib.figure.Figure at 0x14fac1240>"
      ]
     },
     "metadata": {},
     "output_type": "display_data"
    }
   ],
   "source": [
    "plt.scatter(probes_per_mtu[4]['ICMP'].index.values, probes_per_mtu[4]['ICMP'], label=\"icmp4\")\n",
    "plt.scatter(probes_per_mtu[4]['UDP'].index.values, probes_per_mtu[4]['UDP'], label=\"udp4\", color=\"red\")\n",
    "plt.legend(bbox_to_anchor=(0., 1.02, 1., .102), loc=3,\n",
    "           ncol=2, mode=\"expand\", borderaxespad=0.)\n",
    "plt.xlim(0,1570)\n",
    "plt.xlabel(\"payload size\")\n",
    "plt.ylabel(\"probes reaching target\")\n",
    "plt.savefig(\"udp_mtu.pdf\")"
   ]
  },
  {
   "cell_type": "code",
   "execution_count": 7,
   "metadata": {
    "collapsed": false
   },
   "outputs": [
    {
     "data": {
      "text/plain": [
       "<matplotlib.text.Text at 0x1151543c8>"
      ]
     },
     "execution_count": 7,
     "metadata": {},
     "output_type": "execute_result"
    },
    {
     "data": {
      "image/png": "[encoded data removed]",
      "text/plain": [
       "<matplotlib.figure.Figure at 0x1150f6160>"
      ]
     },
     "metadata": {},
     "output_type": "display_data"
    }
   ],
   "source": [
    "#plt.plot(probes_per_mtu[4]['ICMP'], label=\"icmp4\")\n",
    "#plt.plot(probes_per_mtu[4]['UDP'], label=\"udp4\")\n",
    "plt.scatter(probes_per_mtu[6]['ICMP'].index.values, probes_per_mtu[6]['ICMP'], label=\"icmp6\")\n",
    "plt.scatter(probes_per_mtu[6]['UDP'].index.values, probes_per_mtu[6]['UDP'], label=\"udp6\", color=\"red\")\n",
    "plt.legend(bbox_to_anchor=(0., 1.02, 1., .102), loc=3,\n",
    "           ncol=2, mode=\"expand\", borderaxespad=0.)\n",
    "plt.xlim(0,1570)\n",
    "plt.xlabel(\"payload size\")\n",
    "plt.ylabel(\"probes reaching target\")"
   ]
  },
  {
   "cell_type": "markdown",
   "metadata": {},
   "source": [
    "### Step 3: look for evidence of UDP blocking"
   ]
  },
  {
   "cell_type": "code",
   "execution_count": 7,
   "metadata": {
    "collapsed": false
   },
   "outputs": [
    {
     "name": "stdout",
     "output_type": "stream",
     "text": [
      " 9262 total probes,   296 may be blocked ( 3.20%)\n"
     ]
    }
   ],
   "source": [
    "# check this data for evidence of UDP blocking\n",
    "\n",
    "udpdf = mtudf[mtudf['proto'] == \"UDP\"]\n",
    "udp_ok_by_pid = udpdf.groupby((\"pid\"))[\"reached\"].sum()\n",
    "icmpdf = mtudf[mtudf['proto'] == \"ICMP\"]\n",
    "icmp_ok_by_pid = icmpdf.groupby((\"pid\"))[\"reached\"].sum()\n",
    "\n",
    "# forget about probes where ICMP didn't work\n",
    "icmp_broken = icmp_ok_by_pid[icmp_ok_by_pid == 0]\n",
    "udp_where_icmp_ok = udp_ok_by_pid.loc[udp_ok_by_pid.index.difference(icmp_broken.index)]\n",
    "\n",
    "# count probes\n",
    "udp_broken = udp_where_icmp_ok[udp_where_icmp_ok == 0]\n",
    "\n",
    "print(\"%5u total probes, %5u may be blocked (%5.2f%%)\" % \n",
    "      (len(udp_where_icmp_ok), len(udp_broken),\n",
    "      100 * len(udp_broken) / len(udp_where_icmp_ok)))"
   ]
  },
  {
   "cell_type": "code",
   "execution_count": 17,
   "metadata": {
    "collapsed": false
   },
   "outputs": [
    {
     "data": {
      "text/plain": [
       "size\n",
       "72      0.973219\n",
       "572     0.976854\n",
       "1454    0.984696\n",
       "Name: reached, dtype: float64"
      ]
     },
     "execution_count": 17,
     "metadata": {},
     "output_type": "execute_result"
    }
   ],
   "source": [
    "(probes_per_mtu[4]['UDP'] / probes_per_mtu[4]['ICMP'] ).loc[[72, 572, 1454]]"
   ]
  },
  {
   "cell_type": "code",
   "execution_count": 18,
   "metadata": {
    "collapsed": false
   },
   "outputs": [
    {
     "data": {
      "text/plain": [
       "size\n",
       "72      0.026781\n",
       "572     0.023146\n",
       "1454    0.015304\n",
       "Name: reached, dtype: float64"
      ]
     },
     "execution_count": 18,
     "metadata": {},
     "output_type": "execute_result"
    }
   ],
   "source": [
    "1 - (probes_per_mtu[4]['UDP'] / probes_per_mtu[4]['ICMP'] ).loc[[72, 572, 1454]]"
   ]
  },
  {
   "cell_type": "code",
   "execution_count": null,
   "metadata": {
    "collapsed": true
   },
   "outputs": [],
   "source": [
    "## udp_broken.index.values"
   ]
  }
 ],
 "metadata": {
  "kernelspec": {
   "display_name": "Python 3",
   "language": "python",
   "name": "python3"
  },
  "language_info": {
   "codemirror_mode": {
    "name": "ipython",
    "version": 3
   },
   "file_extension": ".py",
   "mimetype": "text/x-python",
   "name": "python",
   "nbconvert_exporter": "python",
   "pygments_lexer": "ipython3",
   "version": "3.5.1"
  }
 },
 "nbformat": 4,
 "nbformat_minor": 0
}
