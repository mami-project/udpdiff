{
 "cells": [
  {
   "cell_type": "code",
   "execution_count": 79,
   "metadata": {
    "collapsed": false
   },
   "outputs": [],
   "source": [
    "# Some jupyter magic to set up the environment correctly\n",
    "%load_ext autoreload\n",
    "%autoreload 2\n",
    "%matplotlib inline\n",
    "\n",
    "import numpy as np\n",
    "import pandas as pd\n",
    "import matplotlib.pyplot as plt\n",
    "import calendar\n",
    "import collections\n",
    "import requests\n",
    "\n",
    "import time\n",
    "import json\n",
    "import os\n",
    "\n",
    "store = pd.HDFStore('data_cache/blocking_probes.h5')"
   ]
  },
  {
   "cell_type": "code",
   "execution_count": 2,
   "metadata": {
    "collapsed": true
   },
   "outputs": [],
   "source": [
    "# UDP blocking probes from 2015 measurements\n",
    "udp_blocking_2015 = \\\n",
    "np.array([   637.,    689.,    720.,   1004.,   1121.,   1270.,   2577.,\n",
    "         2601.,   2844.,   2975.,   3021.,   3174.,   3730.,   4298.,\n",
    "         4554.,   4720.,   4776.,   4833.,   4886.,  10212.,  10977.,\n",
    "        11055.,  12289.,  13061.,  13240.,  13442.,  13712.,  13928.,\n",
    "        14115.,  14390.,  14398.,  14419.,  14454.,  14593.,  14797.,\n",
    "        14889.,  14998.,  15261.,  15342.,  15743.,  15782.,  15942.,\n",
    "        15946.,  15955.,  16053.,  16414.,  16845.,  17009.,  17455.,\n",
    "        17855.,  17938.,  18044.,  18182.,  18292.,  18354.,  18387.,\n",
    "        18550.,  18648.,  19002.,  19201.,  19583.,  19656.,  19774.,\n",
    "        19898.,  19953.,  19998.,  20105.,  20404.,  20423.,  20427.,\n",
    "        20456.,  20479.,  20796.,  20861.,  21170.,  21903.,  22361.,\n",
    "        22471.,  22667.,  22694.,  22948.,  23236.]).astype(int)"
   ]
  },
  {
   "cell_type": "code",
   "execution_count": 3,
   "metadata": {
    "collapsed": false
   },
   "outputs": [],
   "source": [
    "# UDP blocking probes from Emile's MTU measurements\n",
    "udp_blocking_mar16 = \\\n",
    "np.array([    58.,     79.,    280.,    299.,    506.,    584.,    675.,\n",
    "          679.,    817.,    843.,    861.,    892.,    980.,    996.,\n",
    "         1004.,   1396.,   2087.,   2093.,   2162.,   2175.,   2235.,\n",
    "         2237.,   2282.,   2333.,   2577.,   2690.,   2751.,   2792.,\n",
    "         2844.,   2903.,   2906.,   2975.,   3004.,   3013.,   3083.,\n",
    "         3156.,   3174.,   3216.,   3229.,   3280.,   3293.,   3303.,\n",
    "         3370.,   3379.,   3457.,   3620.,   3639.,   3791.,   3828.,\n",
    "         3831.,   3879.,   3906.,   4066.,   4072.,   4127.,   4151.,\n",
    "         4203.,   4214.,   4270.,   4498.,   4554.,   4699.,   4776.,\n",
    "         4814.,   4833.,   4875.,   4903.,   4965.,  10058.,  10212.,\n",
    "        10250.,  10639.,  10915.,  11020.,  11056.,  11119.,  11232.,\n",
    "        11359.,  11383.,  11410.,  11483.,  11530.,  11619.,  11802.,\n",
    "        11832.,  11916.,  11978.,  11995.,  12050.,  12053.,  12402.,\n",
    "        12778.,  12835.,  12880.,  12888.,  12974.,  12983.,  13051.,\n",
    "        13061.,  13214.,  13219.,  13381.,  13442.,  13542.,  13558.,\n",
    "        13633.,  13635.,  13742.,  13882.,  13928.,  13978.,  14273.,\n",
    "        14376.,  14419.,  14450.,  14454.,  14635.,  14695.,  14847.,\n",
    "        14877.,  14922.,  15037.,  15049.,  15063.,  15074.,  15252.,\n",
    "        15261.,  15554.,  15625.,  15646.,  15743.,  15762.,  15817.,\n",
    "        15862.,  15903.,  15942.,  15946.,  16006.,  16090.,  16106.,\n",
    "        16216.,  16544.,  16548.,  16669.,  16689.,  16723.,  16759.,\n",
    "        16821.,  16856.,  16958.,  17138.,  17176.,  17244.,  17428.,\n",
    "        17505.,  17572.,  17807.,  17855.,  17895.,  17906.,  17917.,\n",
    "        18000.,  18110.,  18148.,  18165.,  18243.,  18263.,  18273.,\n",
    "        18296.,  18300.,  18344.,  18387.,  18627.,  18681.,  18695.,\n",
    "        18697.,  18723.,  18904.,  18907.,  18984.,  19002.,  19055.,\n",
    "        19201.,  19241.,  19298.,  19424.,  19434.,  19473.,  19505.,\n",
    "        19569.,  19662.,  19693.,  19807.,  19813.,  19827.,  19898.,\n",
    "        19953.,  19978.,  20025.,  20138.,  20342.,  20359.,  20400.,\n",
    "        20404.,  20423.,  20430.,  20456.,  20461.,  20467.,  20476.,\n",
    "        20488.,  20599.,  20630.,  20636.,  20757.,  20775.,  20777.,\n",
    "        20843.,  20980.,  21074.,  21093.,  21165.,  21258.,  21320.,\n",
    "        21351.,  21403.,  21424.,  21580.,  21704.,  21713.,  21726.,\n",
    "        21764.,  21815.,  21882.,  21985.,  22112.,  22174.,  22510.,\n",
    "        22568.,  22667.,  22813.,  22834.,  22880.,  22955.,  22991.,\n",
    "        23012.,  23111.,  23180.,  23207.,  23267.,  23271.,  23272.,\n",
    "        23281.,  23355.,  23403.,  23419.,  23467.,  23473.,  23749.,\n",
    "        23857.,  23969.,  23986.,  23987.,  24170.,  24209.,  24268.,\n",
    "        24310.,  24437.,  24503.,  24522.,  24748.,  24774.,  24826.,\n",
    "        24891.,  25002.,  25089.,  25100.,  25160.,  25334.,  25377.,\n",
    "        25595.,  25623.,  25960.,  26313.,  26389.,  26620.,  26774.,\n",
    "        26808.,  26832.,  26908.,  26960.,  26993.,  27097.,  27320.,\n",
    "        27325.,  27401.]).astype(int)"
   ]
  },
  {
   "cell_type": "code",
   "execution_count": 51,
   "metadata": {
    "collapsed": true
   },
   "outputs": [],
   "source": [
    "# RIPE Atlas anchor IP addresses\n",
    "anchor_ips = set()\n",
    "with open(\"data_cache/anchor-list.txt\", mode=\"r\", encoding=\"utf8\") as file:\n",
    "    for line in file:\n",
    "        anchor_ips.add(line.rstrip())"
   ]
  },
  {
   "cell_type": "code",
   "execution_count": 4,
   "metadata": {
    "collapsed": false
   },
   "outputs": [],
   "source": [
    "def gen_msms_by_pids(pids, \n",
    "                 first_start=0, \n",
    "                 last_start=calendar.timegm(time.gmtime()), \n",
    "                 skip_lines = 0):\n",
    "    \"\"\"\n",
    "    Find all MSM IDs involving the given PIDs in the all-measurements file.\n",
    "    \n",
    "    \"\"\"\n",
    "    \n",
    "    matched_msms = set()\n",
    "    \n",
    "    with open(\"data_cache/all-measurements-fjson.txt\") as fjf:\n",
    "        for num, line in enumerate(fjf):\n",
    "            if num < skip_lines:\n",
    "                continue\n",
    "            \n",
    "            if (num % 100000) == 0:\n",
    "                print(\"%u\" % (num))\n",
    "            \n",
    "            mm = json.loads(line)\n",
    "            \n",
    "            # check time window\n",
    "            if not ((mm['start_time'] >= first_start) and\n",
    "                    (mm['start_time'] < last_start)):\n",
    "                continue\n",
    "                \n",
    "            # check probe membership\n",
    "            for probeinf in mm['probes']:\n",
    "                pid = int(probeinf['id'])\n",
    "                if pid in pids:\n",
    "                    msm_id = int(mm['msm_id'])\n",
    "                    if msm_id not in matched_msms:\n",
    "                        yield msm_id\n",
    "                        matched_msms.add(msm_id)\n",
    "                        break"
   ]
  },
  {
   "cell_type": "code",
   "execution_count": 95,
   "metadata": {
    "collapsed": false
   },
   "outputs": [],
   "source": [
    "Alp = collections.namedtuple(\"Alp\", (\"time\",\"af\",\"proto\",\"pid\",\"sip\",\"dip\",\"rtt\"))\n",
    "\n",
    "RTT_NONE = 0.0\n",
    "DATA_CACHE_PATH = 'data_cache'\n",
    "\n",
    "# def gen_sagan(msm_ary):\n",
    "#     for a_res in msm_ary:\n",
    "#         yield sagan.Result.get(a_res)\n",
    "\n",
    "# def gen_dict(msm_ary):\n",
    "#     for a_res in msm_ary:\n",
    "#         yield a_res\n",
    "\n",
    "def gen_alp(msm_ary):\n",
    "    for a_res in msm_ary:\n",
    "        if a_res['type'] == 'ping':\n",
    "            if \"rcvd\" in a_res:\n",
    "                for x in a_res[\"result\"]:\n",
    "                    rtt = None\n",
    "                    try: \n",
    "                        rtt = float(x)\n",
    "                    except:\n",
    "                        try:\n",
    "                            rtt = float(x['rtt'])\n",
    "                        except:\n",
    "                            pass\n",
    "                    if rtt:\n",
    "                        yield Alp(int(a_res['timestamp']), a_res['af'], a_res['proto'], \n",
    "                                  a_res['prb_id'], a_res['src_addr'], a_res['dst_addr'], rtt)\n",
    "                    else:\n",
    "                        try:\n",
    "                            yield Alp(int(a_res['timestamp']), a_res['af'], a_res['proto'], \n",
    "                                      a_res['prb_id'], a_res['src_addr'], a_res['dst_addr'], RTT_NONE)\n",
    "                        except KeyError:\n",
    "                            pass\n",
    "\n",
    "        \n",
    "        elif a_res['type'] == 'traceroute':\n",
    "            positive_traceroute = False\n",
    "            if ('result' in a_res) and ('result' in a_res['result'][-1]):\n",
    "                for h_res in a_res['result'][-1]['result']:\n",
    "                    if ('from' in h_res) and ('rtt' in h_res) and (h_res['from'] == a_res['dst_addr']):\n",
    "                        yield Alp(int(a_res['timestamp']), a_res['af'], a_res['proto'] + '_TR', \n",
    "                                  a_res['prb_id'], a_res['src_addr'], a_res['dst_addr'], h_res['rtt'])\n",
    "                        positive_traceroute = True\n",
    "                if not positive_traceroute:\n",
    "                    try:\n",
    "                        yield Alp(int(a_res['timestamp']), a_res['af'], a_res['proto'] + '_TR', \n",
    "                                      a_res['prb_id'], a_res['src_addr'], a_res['dst_addr'], RTT_NONE)\n",
    "                    except KeyError:\n",
    "                        pass\n",
    "                        \n",
    "\n",
    "        # For HTTP, return each subresult as a separate RTT sample\n",
    "        elif a_res['type'] == 'http':\n",
    "            positive_http = False\n",
    "            for r_res in a_res['result']:\n",
    "                if ('res' in r_res) and (r_res['res'] < 400):\n",
    "                    yield Alp(a_res['timestamp'], r_res['af'], 'HTTP', \n",
    "                              a_res['prb_id'], r_res['src_addr'], r_res['dst_addr'], r_res['rt'])  \n",
    "                    positive_http = True\n",
    "            if not positive_http:\n",
    "                try:\n",
    "                    yield Alp(a_res['timestamp'], r_res['af'], 'HTTP', \n",
    "                              a_res['prb_id'], r_res['src_addr'], r_res['dst_addr'], RTT_NONE)                 \n",
    "                except KeyError:\n",
    "                    pass\n",
    "        \n",
    "\n",
    "def get_msm(msm, gen=gen_alp, cachedir=None, start=None, stop=None):\n",
    "    \"\"\"\n",
    "    Given an MSM, fetch it from the cache or from the RIPE Atlas API.\n",
    "    Yield each separate result according to the generation function.\n",
    "    \"\"\"\n",
    "    url = \"https://atlas.ripe.net/api/v1/measurement/%u/result/\" % (msm,)\n",
    "\n",
    "    params = {\"format\": \"json\"}\n",
    "    if start is not None and stop is not None:\n",
    "        params[\"start\"] = str(start)\n",
    "        params[\"stop\"] = str(stop)\n",
    "    \n",
    "    if cachedir and os.path.isdir(cachedir):\n",
    "        filepath = os.path.join(cachedir, \"measurement\", \"%u.json\" % (msm,))\n",
    "\n",
    "        # download if not present\n",
    "        if not os.path.isfile(filepath):\n",
    "            with open(filepath, mode=\"wb\") as file:\n",
    "                print(\"Cache miss, retrieving \"+url)\n",
    "                res = requests.get(url, params=params)\n",
    "\n",
    "                if not res.ok:\n",
    "                    raise \"Atlas measurement API request failed: \"+repr(res.json())\n",
    "                \n",
    "                file.write(res.content)\n",
    "\n",
    "        # then read from cache\n",
    "        try:\n",
    "            with open(filepath) as stream:\n",
    "                yield from gen(json.loads(stream.read()))\n",
    "        except Exception as e:\n",
    "            print(\"exception on cache read: \"+repr(e))\n",
    "            \n",
    "\n",
    "    else:\n",
    "        # just read from the net\n",
    "        res = requests.get(url, params=params)\n",
    "        yield from gen(json.loads(res.content.decode(\"utf-8\")))\n",
    "        \n",
    "def get_msms(msms, gen=gen_alp, cachedir=None, start=None, stop=None):\n",
    "    for msm in msms:\n",
    "        yield from get_msm(msm, gen, cachedir, start, stop)\n",
    "        \n",
    "\n",
    "def latency_dataframe(msm_ids, start=None, stop=None, cachedir=None, \n",
    "                      pid_set=None, invert_pid_set=False, chunksize=1000000, max_records=None):\n",
    "    # initialize MPM generator\n",
    "    alpgen = get_msms(msm_ids, gen=gen_alp, start=start, stop=stop, cachedir=cachedir)\n",
    "    \n",
    "    # initialize accumulators\n",
    "    df = pd.DataFrame([], columns=Alp._fields)\n",
    "    data = []\n",
    "    chunk_count = 0\n",
    "    record_count = 0\n",
    "    \n",
    "    # get individual rows from get_msm\n",
    "    for alp in alpgen:\n",
    "        if (pid_set is not None):\n",
    "            if (((invert_pid_set is False) and (alp.pid not in pid_set)) or\n",
    "               ((invert_pid_set is True) and (alp.pid in pid_set))):\n",
    "                continue\n",
    "            \n",
    "        data.append(alp)\n",
    "        \n",
    "        if len(data) >= chunksize:\n",
    "            df = df.append(pd.DataFrame(data, columns=Alp._fields), ignore_index=True)\n",
    "            data = []\n",
    "            print(\"chunk \"+str(chunk_count))\n",
    "            chunk_count += 1\n",
    "\n",
    "        record_count += 1\n",
    "        if max_records and (record_count >= max_records):\n",
    "            break\n",
    "           \n",
    "    # Append final dataframe if non-empty.\n",
    "    if len(data) > 0:\n",
    "        df = df.append(pd.DataFrame(data, columns=Alp._fields), ignore_index=True)\n",
    "\n",
    "    # Close generator (close underlying file)\n",
    "    alpgen.close()\n",
    "    \n",
    "    # Return dataframe\n",
    "    return df"
   ]
  },
  {
   "cell_type": "code",
   "execution_count": 91,
   "metadata": {
    "collapsed": true
   },
   "outputs": [],
   "source": [
    "def plot_ecdf(a, **kwargs):\n",
    "    sa = np.sort(a)\n",
    "    yv = np.arange(len(sa))/float(len(sa))\n",
    "    plt.plot(sa, yv, **kwargs)"
   ]
  },
  {
   "cell_type": "code",
   "execution_count": 10,
   "metadata": {
    "collapsed": false
   },
   "outputs": [
    {
     "name": "stdout",
     "output_type": "stream",
     "text": [
      "0\n",
      "100000\n",
      "200000\n",
      "300000\n",
      "400000\n",
      "500000\n",
      "600000\n",
      "700000\n",
      "800000\n",
      "900000\n",
      "1000000\n",
      "1100000\n",
      "1200000\n",
      "1300000\n",
      "1400000\n",
      "1500000\n",
      "1600000\n",
      "1700000\n",
      "1800000\n",
      "1900000\n",
      "2000000\n",
      "CPU times: user 5min 14s, sys: 11.2 s, total: 5min 25s\n",
      "Wall time: 5min 31s\n"
     ]
    }
   ],
   "source": [
    "%%time \n",
    "msms_4q_2015 = [x for x in gen_msms_by_pids(set(udp_blocking_2015), \n",
    "                                first_start=calendar.timegm((2015,10,1,0,0,0)),\n",
    "                                last_start=calendar.timegm((2016,1,1,0,0,0)))]\n",
    "with open(\"data_cache/msms_4q_2015.txt\", mode=\"w\") as file:\n",
    "    for msm in msms_4q_2015:\n",
    "        file.write(str(msm) + \"\\n\")"
   ]
  },
  {
   "cell_type": "code",
   "execution_count": 19,
   "metadata": {
    "collapsed": false
   },
   "outputs": [],
   "source": [
    "with open(\"data_cache/msms_4q_2015.txt\") as file:\n",
    "    msms_4q_2015 = []\n",
    "    for line in file:\n",
    "        msms_4q_2015.append(int(line))"
   ]
  },
  {
   "cell_type": "code",
   "execution_count": 20,
   "metadata": {
    "collapsed": false
   },
   "outputs": [
    {
     "data": {
      "text/plain": [
       "38073"
      ]
     },
     "execution_count": 20,
     "metadata": {},
     "output_type": "execute_result"
    }
   ],
   "source": [
    "len(msms_4q_2015)"
   ]
  },
  {
   "cell_type": "code",
   "execution_count": 22,
   "metadata": {
    "collapsed": false
   },
   "outputs": [
    {
     "name": "stdout",
     "output_type": "stream",
     "text": [
      "exception on cache read: JSONDecodeError('Expecting value: line 1 column 1 (char 0)',)\n",
      "exception on cache read: JSONDecodeError('Expecting value: line 1 column 1 (char 0)',)\n",
      "exception on cache read: JSONDecodeError('Expecting value: line 1 column 1 (char 0)',)\n",
      "exception on cache read: JSONDecodeError('Expecting value: line 1 column 1 (char 0)',)\n",
      "chunk 0\n",
      "chunk 1\n"
     ]
    }
   ],
   "source": [
    "df = latency_dataframe(msms_4q_2015, \n",
    "                       pid_set = set(udp_blocking_2015),\n",
    "                       cachedir=\"data_cache\",\n",
    "                       max_records=2000000)\n",
    "store['df'] = df"
   ]
  },
  {
   "cell_type": "code",
   "execution_count": 109,
   "metadata": {
    "collapsed": false
   },
   "outputs": [
    {
     "name": "stdout",
     "output_type": "stream",
     "text": [
      "chunk 0\n",
      "chunk 1\n",
      "chunk 2\n",
      "chunk 3\n",
      "chunk 4\n",
      "chunk 5\n",
      "chunk 6\n",
      "chunk 7\n",
      "chunk 8\n",
      "chunk 9\n"
     ]
    }
   ],
   "source": [
    "dfop = latency_dataframe(msms_4q_2015,\n",
    "                                    pid_set = set(udp_blocking_2015),\n",
    "                                    invert_pid_set = True,\n",
    "                                    cachedir=\"data_cache\",\n",
    "                                    max_records=10000000)\n",
    "store['df_other_probes'] = dfop"
   ]
  },
  {
   "cell_type": "code",
   "execution_count": 98,
   "metadata": {
    "collapsed": false
   },
   "outputs": [],
   "source": []
  },
  {
   "cell_type": "code",
   "execution_count": 24,
   "metadata": {
    "collapsed": true
   },
   "outputs": [],
   "source": []
  },
  {
   "cell_type": "code",
   "execution_count": 55,
   "metadata": {
    "collapsed": false
   },
   "outputs": [],
   "source": [
    "df = store['df']"
   ]
  },
  {
   "cell_type": "code",
   "execution_count": 110,
   "metadata": {
    "collapsed": false
   },
   "outputs": [],
   "source": [
    "df[\"success\"] = df[\"rtt\"] > 0\n",
    "df[\"n\"] = 1\n",
    "dfop[\"success\"] = dfop[\"rtt\"] > 0\n",
    "dfop[\"n\"] = 1"
   ]
  },
  {
   "cell_type": "code",
   "execution_count": 111,
   "metadata": {
    "collapsed": false
   },
   "outputs": [],
   "source": [
    "anchor_df = df[df['dip'].isin(anchors)]\n",
    "anchor_dfop = df_other_probes[df_other_probes['dip'].isin(anchors)]"
   ]
  },
  {
   "cell_type": "code",
   "execution_count": 104,
   "metadata": {
    "collapsed": false
   },
   "outputs": [
    {
     "data": {
      "text/plain": [
       "True     962647\n",
       "False     19263\n",
       "Name: success, dtype: int64"
      ]
     },
     "execution_count": 104,
     "metadata": {},
     "output_type": "execute_result"
    }
   ],
   "source": []
  },
  {
   "cell_type": "code",
   "execution_count": 58,
   "metadata": {
    "collapsed": false
   },
   "outputs": [
    {
     "name": "stderr",
     "output_type": "stream",
     "text": [
      "/usr/local/lib/python3.5/site-packages/ipykernel/__main__.py:1: SettingWithCopyWarning: \n",
      "A value is trying to be set on a copy of a slice from a DataFrame.\n",
      "Try using .loc[row_indexer,col_indexer] = value instead\n",
      "\n",
      "See the caveats in the documentation: http://pandas.pydata.org/pandas-docs/stable/indexing.html#indexing-view-versus-copy\n",
      "  if __name__ == '__main__':\n"
     ]
    }
   ],
   "source": [
    "anchor_df[\"success\"] = anchor_df[\"rtt\"] > 0"
   ]
  },
  {
   "cell_type": "code",
   "execution_count": 112,
   "metadata": {
    "collapsed": false
   },
   "outputs": [
    {
     "data": {
      "text/plain": [
       "ICMP_TR    695545\n",
       "ICMP       286365\n",
       "Name: proto, dtype: int64"
      ]
     },
     "execution_count": 112,
     "metadata": {},
     "output_type": "execute_result"
    }
   ],
   "source": [
    "anchor_dfop[\"proto\"].value_counts()"
   ]
  },
  {
   "cell_type": "code",
   "execution_count": 105,
   "metadata": {
    "collapsed": false
   },
   "outputs": [],
   "source": [
    "pp_ok = anchor_df.groupby([\"pid\",\"proto\"])[\"success\"].sum() / anchor_df.groupby([\"pid\",\"proto\"])[\"n\"].sum()\n",
    "ppop_ok = anchor_dfop.groupby([\"pid\",\"proto\"])[\"success\"].sum() / anchor_dfop.groupby([\"pid\",\"proto\"])[\"n\"].sum()"
   ]
  },
  {
   "cell_type": "code",
   "execution_count": 115,
   "metadata": {
    "collapsed": false
   },
   "outputs": [
    {
     "data": {
      "text/plain": [
       "<matplotlib.text.Text at 0x1ebbde320>"
      ]
     },
     "execution_count": 115,
     "metadata": {},
     "output_type": "execute_result"
    },
    {
     "data": {
      "image/png": "[encoded data removed]",
      "text/plain": [
       "<matplotlib.figure.Figure at 0x1c292b240>"
      ]
     },
     "metadata": {},
     "output_type": "display_data"
    }
   ],
   "source": [
    "plot_ecdf(pp_ok.xs(\"HTTP\", level=\"proto\"))\n",
    "plot_ecdf(pp_ok.xs(\"ICMP\", level=\"proto\"))\n",
    "plot_ecdf(ppop_ok.xs(\"ICMP\", level=\"proto\"))\n",
    "\n",
    "plt.xlabel(\"p(sample OK)\")\n",
    "plt.ylabel(\"proportion of probes\")\n"
   ]
  },
  {
   "cell_type": "code",
   "execution_count": null,
   "metadata": {
    "collapsed": true
   },
   "outputs": [],
   "source": []
  }
 ],
 "metadata": {
  "kernelspec": {
   "display_name": "Python 3",
   "language": "python",
   "name": "python3"
  },
  "language_info": {
   "codemirror_mode": {
    "name": "ipython",
    "version": 3
   },
   "file_extension": ".py",
   "mimetype": "text/x-python",
   "name": "python",
   "nbconvert_exporter": "python",
   "pygments_lexer": "ipython3",
   "version": "3.5.1"
  }
 },
 "nbformat": 4,
 "nbformat_minor": 0
}
