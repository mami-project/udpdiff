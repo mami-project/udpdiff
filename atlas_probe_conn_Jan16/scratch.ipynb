{
 "cells": [
  {
   "cell_type": "code",
   "execution_count": 3,
   "metadata": {
    "collapsed": true
   },
   "outputs": [],
   "source": [
    "import pandas as pd"
   ]
  },
  {
   "cell_type": "code",
   "execution_count": 1,
   "metadata": {
    "collapsed": true
   },
   "outputs": [],
   "source": [
    "tcp_flow_count = { 8008 :    175197,\n",
    "                  12345 :   173747,\n",
    "                  34567 :   168915,\n",
    "                  33435 :   167190,\n",
    "                  54321 :   164296,\n",
    "                  443   :   113021,\n",
    "                  53    :    64683}"
   ]
  },
  {
   "cell_type": "code",
   "execution_count": 2,
   "metadata": {
    "collapsed": true
   },
   "outputs": [],
   "source": [
    "udp_flow_count = { 12345 :   169255,\n",
    "                   8008  :   167582,\n",
    "                   34567 :   159290,\n",
    "                   33435 :   158611,\n",
    "                   54321 :   155483,\n",
    "                   443   :    98009,\n",
    "                   53    :    50767 }"
   ]
  },
  {
   "cell_type": "code",
   "execution_count": 18,
   "metadata": {
    "collapsed": false
   },
   "outputs": [],
   "source": [
    "df = pd.DataFrame.from_dict(tcp_flow_count, orient=\"index\")\n",
    "df.columns = ('tcp',)\n",
    "df['udp'] = pd.DataFrame.from_dict(udp_flow_count, orient=\"index\")[0]"
   ]
  },
  {
   "cell_type": "code",
   "execution_count": 26,
   "metadata": {
    "collapsed": false
   },
   "outputs": [],
   "source": [
    "df['absbias'] = df['udp'] - df['tcp']"
   ]
  },
  {
   "cell_type": "code",
   "execution_count": 27,
   "metadata": {
    "collapsed": false
   },
   "outputs": [],
   "source": [
    "df['relbias'] = df['absbias'] / ((df['udp'] + df['tcp']) / 2)"
   ]
  },
  {
   "cell_type": "code",
   "execution_count": 28,
   "metadata": {
    "collapsed": false
   },
   "outputs": [
    {
     "data": {
      "text/html": [
       "<div>\n",
       "<table border=\"1\" class=\"dataframe\">\n",
       "  <thead>\n",
       "    <tr style=\"text-align: right;\">\n",
       "      <th></th>\n",
       "      <th>tcp</th>\n",
       "      <th>udp</th>\n",
       "      <th>absbias</th>\n",
       "      <th>relbias</th>\n",
       "    </tr>\n",
       "  </thead>\n",
       "  <tbody>\n",
       "    <tr>\n",
       "      <th>54321</th>\n",
       "      <td>164296</td>\n",
       "      <td>155483</td>\n",
       "      <td>-8813</td>\n",
       "      <td>-0.055119</td>\n",
       "    </tr>\n",
       "    <tr>\n",
       "      <th>443</th>\n",
       "      <td>113021</td>\n",
       "      <td>98009</td>\n",
       "      <td>-15012</td>\n",
       "      <td>-0.142274</td>\n",
       "    </tr>\n",
       "    <tr>\n",
       "      <th>53</th>\n",
       "      <td>64683</td>\n",
       "      <td>50767</td>\n",
       "      <td>-13916</td>\n",
       "      <td>-0.241074</td>\n",
       "    </tr>\n",
       "    <tr>\n",
       "      <th>34567</th>\n",
       "      <td>168915</td>\n",
       "      <td>159290</td>\n",
       "      <td>-9625</td>\n",
       "      <td>-0.058652</td>\n",
       "    </tr>\n",
       "    <tr>\n",
       "      <th>8008</th>\n",
       "      <td>175197</td>\n",
       "      <td>167582</td>\n",
       "      <td>-7615</td>\n",
       "      <td>-0.044431</td>\n",
       "    </tr>\n",
       "    <tr>\n",
       "      <th>12345</th>\n",
       "      <td>173747</td>\n",
       "      <td>169255</td>\n",
       "      <td>-4492</td>\n",
       "      <td>-0.026192</td>\n",
       "    </tr>\n",
       "    <tr>\n",
       "      <th>33435</th>\n",
       "      <td>167190</td>\n",
       "      <td>158611</td>\n",
       "      <td>-8579</td>\n",
       "      <td>-0.052664</td>\n",
       "    </tr>\n",
       "  </tbody>\n",
       "</table>\n",
       "</div>"
      ],
      "text/plain": [
       "          tcp     udp  absbias   relbias\n",
       "54321  164296  155483    -8813 -0.055119\n",
       "443    113021   98009   -15012 -0.142274\n",
       "53      64683   50767   -13916 -0.241074\n",
       "34567  168915  159290    -9625 -0.058652\n",
       "8008   175197  167582    -7615 -0.044431\n",
       "12345  173747  169255    -4492 -0.026192\n",
       "33435  167190  158611    -8579 -0.052664"
      ]
     },
     "execution_count": 28,
     "metadata": {},
     "output_type": "execute_result"
    }
   ],
   "source": [
    "df"
   ]
  },
  {
   "cell_type": "code",
   "execution_count": null,
   "metadata": {
    "collapsed": true
   },
   "outputs": [],
   "source": []
  }
 ],
 "metadata": {
  "kernelspec": {
   "display_name": "Python 3",
   "language": "python",
   "name": "python3"
  },
  "language_info": {
   "codemirror_mode": {
    "name": "ipython",
    "version": 3
   },
   "file_extension": ".py",
   "mimetype": "text/x-python",
   "name": "python",
   "nbconvert_exporter": "python",
   "pygments_lexer": "ipython3",
   "version": "3.5.1"
  }
 },
 "nbformat": 4,
 "nbformat_minor": 0
}
